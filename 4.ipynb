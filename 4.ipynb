{
  "nbformat": 4,
  "nbformat_minor": 0,
  "metadata": {
    "colab": {
      "name": "파이썬으로 배우는 머신러닝 4장.ipynb",
      "provenance": [],
      "collapsed_sections": []
    },
    "kernelspec": {
      "name": "python3",
      "display_name": "Python 3"
    },
    "language_info": {
      "name": "python"
    }
  },
  "cells": [
    {
      "cell_type": "code",
      "metadata": {
        "id": "zgnRGMzz7AON"
      },
      "source": [
        "import numpy as np\n",
        "import matplotlib.pyplot as plt"
      ],
      "execution_count": null,
      "outputs": []
    },
    {
      "cell_type": "markdown",
      "metadata": {
        "id": "ZLr-4c94vRPK"
      },
      "source": [
        "##벡터"
      ]
    },
    {
      "cell_type": "markdown",
      "metadata": {
        "id": "rH2qCMzuRKtI"
      },
      "source": [
        "### 백터 , 백터 전치"
      ]
    },
    {
      "cell_type": "code",
      "metadata": {
        "colab": {
          "base_uri": "https://localhost:8080/"
        },
        "id": "xd5ar-WeM0x8",
        "outputId": "e188e276-e9b7-41b7-ac61-a76426885676"
      },
      "source": [
        " a = np.array([1,2,3]) ## 1차원 ndarray형은 항상 가로백터이다.\n",
        " print(a.shape)\n",
        "print(a.T.shape)"
      ],
      "execution_count": null,
      "outputs": [
        {
          "output_type": "stream",
          "text": [
            "(3,)\n",
            "(3,)\n"
          ],
          "name": "stdout"
        }
      ]
    },
    {
      "cell_type": "code",
      "metadata": {
        "colab": {
          "base_uri": "https://localhost:8080/"
        },
        "id": "T6PLluWpM5f7",
        "outputId": "8c0ae53a-2615-4619-a7a1-648cd5d0888a"
      },
      "source": [
        "b = np.array([[1],[2]]) ## 2차원 배열, 세로백터 형태\n",
        "print(b.shape) ## (2 x 1)\n",
        "print(b.T.shape) ## (1 x 2) "
      ],
      "execution_count": null,
      "outputs": [
        {
          "output_type": "stream",
          "text": [
            "(2, 1)\n",
            "(1, 2)\n"
          ],
          "name": "stdout"
        }
      ]
    },
    {
      "cell_type": "markdown",
      "metadata": {
        "id": "rzvJfCJ-RR1T"
      },
      "source": [
        "### 백터 덧셈"
      ]
    },
    {
      "cell_type": "code",
      "metadata": {
        "colab": {
          "base_uri": "https://localhost:8080/"
        },
        "id": "PczutSJGOkSa",
        "outputId": "89307242-5b12-4866-c36f-73215bca2c24"
      },
      "source": [
        "a = np.array([2, 1]) ## 각 요소를 연산하는 것은 백터연산이다\n",
        "b = np.array([1, 3]) ## 연산의 결과는 기하학적으로 a와 b를 변으로 하는 평행 사변형의 대각선이다.\n",
        "print(a + b)"
      ],
      "execution_count": null,
      "outputs": [
        {
          "output_type": "stream",
          "text": [
            "[3 4]\n"
          ],
          "name": "stdout"
        }
      ]
    },
    {
      "cell_type": "markdown",
      "metadata": {
        "id": "wX2-7YBvRUh3"
      },
      "source": [
        "### 백터 뺄셈"
      ]
    },
    {
      "cell_type": "code",
      "metadata": {
        "colab": {
          "base_uri": "https://localhost:8080/"
        },
        "id": "VLCzULNsOZgL",
        "outputId": "a5eb5aa2-bc89-45e4-8d8b-f7851ad26228"
      },
      "source": [
        "a = np.array([2, 1]) ## 연산의 결과는 기하학적으로 a와 -b를 변으로 하는 평행 사변형의 대각선이다.\n",
        "b = np.array([1, 3]) \n",
        "print(a - b)"
      ],
      "execution_count": null,
      "outputs": [
        {
          "output_type": "stream",
          "text": [
            "[ 1 -2]\n"
          ],
          "name": "stdout"
        }
      ]
    },
    {
      "cell_type": "markdown",
      "metadata": {
        "id": "gtMERXFlRaB_"
      },
      "source": [
        "### 스칼라의 곱셈"
      ]
    },
    {
      "cell_type": "code",
      "metadata": {
        "colab": {
          "base_uri": "https://localhost:8080/"
        },
        "id": "jAKEAzzkPcfJ",
        "outputId": "e3da1994-7b50-47f6-aa36-4bb9a810e789"
      },
      "source": [
        "a = np.array([2, 1]) ## 스칼라 값의 연산은 백터 요소 전체에 적용된다. \n",
        "print(2 * a) ## 기하학적으로 벡터의 크기가 스칼라 배가 된다."
      ],
      "execution_count": null,
      "outputs": [
        {
          "output_type": "stream",
          "text": [
            "[4 2]\n"
          ],
          "name": "stdout"
        }
      ]
    },
    {
      "cell_type": "markdown",
      "metadata": {
        "id": "E588rjlyRd2M"
      },
      "source": [
        "### 내적"
      ]
    },
    {
      "cell_type": "code",
      "metadata": {
        "colab": {
          "base_uri": "https://localhost:8080/"
        },
        "id": "f_DZkWgoPmFD",
        "outputId": "39bb3e56-2e0d-47cd-fcf9-4ccdd0be87aa"
      },
      "source": [
        "b = np.array([1, 3])  ## 백터의 내적은 같은 차원을 가진 두 벡터에서 대응하는 요소를 곱한 뒤 더한 값이다.\n",
        "c = np.array([4, 2])  ## 기하학적인 의미는 b백터를 c백터에 투영한 b'벡터의 길이를 c벡터의 길이를 곱해 합한 것이다.\n",
        "print(b.dot(c))       ## |b| * |c| * cos세타의 의미이다. \n",
        "                      ## 즉 내적은 두 벡터의 유사성과 관련이 있는 연산입니다.\n",
        "                        "
      ],
      "execution_count": null,
      "outputs": [
        {
          "output_type": "stream",
          "text": [
            "10\n"
          ],
          "name": "stdout"
        }
      ]
    },
    {
      "cell_type": "markdown",
      "metadata": {
        "id": "OqBBsa9STNrE"
      },
      "source": [
        "### 벡터의 크기"
      ]
    },
    {
      "cell_type": "code",
      "metadata": {
        "colab": {
          "base_uri": "https://localhost:8080/"
        },
        "id": "VkdqFZ9_TPJZ",
        "outputId": "5ce60d8b-28fa-4fa1-f9dd-bc31259866f1"
      },
      "source": [
        "a = np.array([1,3])\n",
        "print(np.linalg.norm(a)) \n",
        "print(np.sqrt(1*1 + 3*3))"
      ],
      "execution_count": null,
      "outputs": [
        {
          "output_type": "stream",
          "text": [
            "3.1622776601683795\n",
            "3.1622776601683795\n"
          ],
          "name": "stdout"
        }
      ]
    },
    {
      "cell_type": "code",
      "metadata": {
        "colab": {
          "base_uri": "https://localhost:8080/"
        },
        "id": "drC9PyeFT-sq",
        "outputId": "43b74734-2409-46b2-b80f-20220ce61d5b"
      },
      "source": [
        "a = np.array([[1,2],[3,4]])\n",
        "print(np.linalg.norm(a)) ## 원소 제곱해서 더해주는 함수?\n",
        "print(np.sqrt(1*1 + 2*2 + 3*3 + 4*4))"
      ],
      "execution_count": null,
      "outputs": [
        {
          "output_type": "stream",
          "text": [
            "5.477225575051661\n",
            "5.477225575051661\n"
          ],
          "name": "stdout"
        }
      ]
    },
    {
      "cell_type": "markdown",
      "metadata": {
        "id": "z7rpdESXvV-y"
      },
      "source": [
        "##미분"
      ]
    },
    {
      "cell_type": "markdown",
      "metadata": {
        "id": "zBiTy6xoUoya"
      },
      "source": [
        "### 합의 기호 시그마"
      ]
    },
    {
      "cell_type": "markdown",
      "metadata": {
        "id": "zXscMKYhVuo8"
      },
      "source": [
        "특이점 : 벡터의 내적을 시그마로 표현 가능\n",
        "따라서 시그마를 for문을 돌려서 처리하는 것보다 가능하면 내적으로 처리하는 것이 더 빠르다."
      ]
    },
    {
      "cell_type": "code",
      "metadata": {
        "colab": {
          "base_uri": "https://localhost:8080/"
        },
        "id": "J2rFfToLUrA0",
        "outputId": "2e6a3c4e-29e0-4530-f783-6039a2619c34"
      },
      "source": [
        "a = np.ones(1000)\n",
        "b = np.arange(1, 1001)\n",
        "a.dot(b)"
      ],
      "execution_count": null,
      "outputs": [
        {
          "output_type": "execute_result",
          "data": {
            "text/plain": [
              "500500.0"
            ]
          },
          "metadata": {
            "tags": []
          },
          "execution_count": 83
        }
      ]
    },
    {
      "cell_type": "markdown",
      "metadata": {
        "id": "AklHla8vWWII"
      },
      "source": [
        "### 곱의 기호"
      ]
    },
    {
      "cell_type": "markdown",
      "metadata": {
        "id": "2vImagb8Wxj-"
      },
      "source": [
        "모든 요소를 다 곱한다."
      ]
    },
    {
      "cell_type": "markdown",
      "metadata": {
        "id": "lWmin3rCW2wl"
      },
      "source": [
        "### 미분"
      ]
    },
    {
      "cell_type": "markdown",
      "metadata": {
        "id": "1n3q2V75Yigo"
      },
      "source": [
        "- 연쇄법칙 : 단계적으로 나누어 미분\n",
        "- 편미분 : 편미분하는 변수에만 주목해서 미분 => gradient"
      ]
    },
    {
      "cell_type": "markdown",
      "metadata": {
        "id": "IjtHcrqRbc8u"
      },
      "source": [
        "경사를 그림으로 나타내기"
      ]
    },
    {
      "cell_type": "code",
      "metadata": {
        "id": "n3nRsdUMa3Zq"
      },
      "source": [
        "def f(w0, w1):                          ## f 정의\n",
        "  return w0**2 + 2 * w0 * w1 +3          \n",
        "def df_dw0(w0, w1):                     ## f의 w0에 대한 편미분\n",
        "  return 2 * w0 + 2 * w1\n",
        "def df_dw1(w0, w1):                     ## f의 w1에 대한 편미분\n",
        "  return 2 * w0 + 0 * w1"
      ],
      "execution_count": null,
      "outputs": []
    },
    {
      "cell_type": "code",
      "metadata": {
        "id": "QQC3FGJBbb4G"
      },
      "source": [
        "w_range = 2\n",
        "dw = 0.25\n",
        "w0 = np.arange(-w_range, w_range + dw, dw) ## -2부터 2.25 전까지 0.25간격으로 나누기 (2.25제외)\n",
        "w1 = np.arange(-w_range, w_range + dw, dw) \n",
        "wn = w0.shape[0] ## w0의 요소 개수\n",
        "ww0 , ww1 = np.meshgrid(w0, w1) ## w0와 w1으로 gird 만들기 (격자점 좌표 생성)\n",
        "## ww0는 w0 행의 반복, ww1은 w1의 열을 행으로 반복 따라서 격자의 순서가 i, j 와 반대이다.\n",
        "ff = np.zeros((len(w0), len(w1))) ## f값 저장할 벡터 만들기\n",
        "dff_dw0 = np.zeros((len(w0), len(w1))) ## f를 w0로 미분한 값 저장할 벡터 만들기\n",
        "dff_dw1 = np.zeros((len(w0), len(w1))) ## f를 w1로 미분한 값 저장할 벡터 만들기\n",
        "for i0 in range(wn):\n",
        "  for i1 in range(wn):\n",
        "    ff[i1, i0] = f(w0[i0], w1[i1]) ## 격자의 순서가 반대이므로 값도 반대로 넣어줘야 한다.\n",
        "    dff_dw0[i1, i0] = df_dw0(w0[i0], w1[i1])\n",
        "    dff_dw1[i1, i0] = df_dw1(w0[i0], w1[i1])"
      ],
      "execution_count": null,
      "outputs": []
    },
    {
      "cell_type": "code",
      "metadata": {
        "colab": {
          "base_uri": "https://localhost:8080/",
          "height": 284
        },
        "id": "2_g8aa9ofENO",
        "outputId": "e89679c8-24f0-4200-f675-7d5e108eaab2"
      },
      "source": [
        "plt.figure(figsize=(9, 4))\n",
        "plt.subplots_adjust(wspace=0.3)\n",
        "plt.subplot(1,2,1)\n",
        "cont = plt.contour(ww0, ww1, ff, 10, colors='k') ## 등고선 그래프 그리기, levels은 10이다.\n",
        "cont.clabel(fmt='%2.0f', fontsize= 8) ## 등고선에 숫자 넣기\n",
        "plt.xticks(range(-w_range, w_range + 1, 1)) ## 눈금 표시\n",
        "plt.yticks(range(-w_range, w_range + 1, 1))\n",
        "plt.xlim(-w_range - 0.5, w_range + 0.5)  ## 범위 지정\n",
        "plt.ylim(-w_range - 0.5, w_range + 0.5)\n",
        "plt.xlabel('$w_0$', fontsize= 14)  ## label표시\n",
        "plt.ylabel('$w_1$', fontsize= 14)\n",
        "\n",
        "plt.subplot(1,2,2)\n",
        "plt.quiver(ww0, ww1, dff_dw0, dff_dw1) ## 2차원 평면에 scaled된 화살표 그린다. 여기에서는 gradient 그리기\n",
        "## 좌표점 (ww0, ww1) 부터 방향 (dff_dw0, dff_dw1)의 화살표를 그린다.\n",
        "plt.xlabel('$w_0$', fontsize= 14)\n",
        "plt.ylabel('$w_1$', fontsize= 14)\n",
        "plt.xticks(range(-w_range, w_range + 1, 1))\n",
        "plt.yticks(range(-w_range, w_range + 1, 1))\n",
        "plt.xlim(-w_range - 0.5, w_range + 0.5)\n",
        "plt.ylim(-w_range - 0.5, w_range + 0.5)\n",
        "\n",
        "plt.show()"
      ],
      "execution_count": null,
      "outputs": [
        {
          "output_type": "display_data",
          "data": {
            "image/png": "[encoded data removed]",
            "text/plain": [
              "<Figure size 648x288 with 2 Axes>"
            ]
          },
          "metadata": {
            "tags": [],
            "needs_background": "light"
          }
        }
      ]
    },
    {
      "cell_type": "markdown",
      "metadata": {
        "id": "8IeZVtiFrbUl"
      },
      "source": [
        "다변수 중첩 함수의 미분\n",
        "- f(g_0(w_0,w_1), g_1(w_0,w_1), g_2(w_0,w_1) .... g_m(w_0,w_1)) 을 미분하면 다음과 같다.\n",
        "- Σ(∂f / ∂g_m) * (dg_m / dw) "
      ]
    },
    {
      "cell_type": "markdown",
      "metadata": {
        "id": "2_ad6xImsQeX"
      },
      "source": [
        "미분과 합의 기호의 교환\n",
        "- 미분과 합의 기호(시그마)는 순서를 바꿀 수 있다.\n",
        "- 미분을 먼저 계산하고 시그마를 계산하는 경우가 머신러닝에서 편한 경우가 많다."
      ]
    },
    {
      "cell_type": "markdown",
      "metadata": {
        "id": "PBoDz3_esk9k"
      },
      "source": [
        "## 행렬\n",
        "백터는 행렬의 일종이다.(가로벡터 세로백터)"
      ]
    },
    {
      "cell_type": "markdown",
      "metadata": {
        "id": "WHQt8ZjnutOF"
      },
      "source": [
        "### 행렬의 덧셈, 뺄셈(같은 크기의 행렬만 가능)"
      ]
    },
    {
      "cell_type": "code",
      "metadata": {
        "colab": {
          "base_uri": "https://localhost:8080/"
        },
        "id": "1vovpIrmvMlK",
        "outputId": "48c83c6b-106e-4515-c380-6417d15cdba8"
      },
      "source": [
        "A = np.array([[1,2,3],[4,5,6]])  ##각 요소끼리 연산한다.\n",
        "B = np.array([[7,8,9],[10,11,12]])\n",
        "print(A+B)\n",
        "print(A-B)"
      ],
      "execution_count": null,
      "outputs": [
        {
          "output_type": "stream",
          "text": [
            "[[ 8 10 12]\n",
            " [14 16 18]]\n",
            "[[-6 -6 -6]\n",
            " [-6 -6 -6]]\n"
          ],
          "name": "stdout"
        }
      ]
    },
    {
      "cell_type": "markdown",
      "metadata": {
        "id": "DjMBTYymwoFf"
      },
      "source": [
        "### 행렬의 스칼라 배"
      ]
    },
    {
      "cell_type": "code",
      "metadata": {
        "colab": {
          "base_uri": "https://localhost:8080/"
        },
        "id": "kGon3hS1wrXZ",
        "outputId": "0026de44-365b-44ba-ba87-554daee97256"
      },
      "source": [
        "A = np.array([[1,2,3],[4,5,6]]) ## 모든 요소에 스칼라를 곱한다.\n",
        "print(2 * A)"
      ],
      "execution_count": null,
      "outputs": [
        {
          "output_type": "stream",
          "text": [
            "[[ 2  4  6]\n",
            " [ 8 10 12]]\n"
          ],
          "name": "stdout"
        }
      ]
    },
    {
      "cell_type": "markdown",
      "metadata": {
        "id": "fK7VJ015w3JS"
      },
      "source": [
        "###행렬의 곱"
      ]
    },
    {
      "cell_type": "code",
      "metadata": {
        "colab": {
          "base_uri": "https://localhost:8080/"
        },
        "id": "bmhNZGgAw5Ch",
        "outputId": "93baaddc-7a98-431b-d010-5245a5f96bca"
      },
      "source": [
        "A = np.array([1, 2, 3])\n",
        "B = np.array([4, 5, 6])\n",
        "print(A.dot(B)) ## 원래 내적계산은 행렬곱 연산이다. 크기만 맞추면 자동으로 세로벡터, 가로벡터로 변환한다."
      ],
      "execution_count": null,
      "outputs": [
        {
          "output_type": "stream",
          "text": [
            "32\n"
          ],
          "name": "stdout"
        }
      ]
    },
    {
      "cell_type": "code",
      "metadata": {
        "colab": {
          "base_uri": "https://localhost:8080/"
        },
        "id": "uVyiZ-fdxlbt",
        "outputId": "202a5eda-5f23-4be3-b221-24317248b779"
      },
      "source": [
        "print(A * B) ## 그냥 대응되는 요소끼리 곱한다,"
      ],
      "execution_count": null,
      "outputs": [
        {
          "output_type": "stream",
          "text": [
            "[ 4 10 18]\n"
          ],
          "name": "stdout"
        }
      ]
    },
    {
      "cell_type": "code",
      "metadata": {
        "colab": {
          "base_uri": "https://localhost:8080/"
        },
        "id": "IyzAsuqeybVG",
        "outputId": "7b5361d7-15ba-497b-f0e5-c6448b2f966a"
      },
      "source": [
        "A = np.array([[1, 2, 3],[-1, -2, -3]])\n",
        "B = np.array([[4, -4],[5, -5],[6, -6]])\n",
        "print(A.dot(B)) ## 행렬 곱 : (2 x 3) * (3 x 2)"
      ],
      "execution_count": null,
      "outputs": [
        {
          "output_type": "stream",
          "text": [
            "[[ 32 -32]\n",
            " [-32  32]]\n"
          ],
          "name": "stdout"
        }
      ]
    },
    {
      "cell_type": "markdown",
      "metadata": {
        "id": "j6xCTfPlzGD1"
      },
      "source": [
        "### 단위행렬"
      ]
    },
    {
      "cell_type": "code",
      "metadata": {
        "colab": {
          "base_uri": "https://localhost:8080/"
        },
        "id": "sJp7oGtozHbS",
        "outputId": "de3d1e8f-b77a-494e-e6bc-37e2afba240f"
      },
      "source": [
        "np.identity(5) ## 정방행렬 + 대각선 하나만 1\n",
        "               ## 요소는 float형이다."
      ],
      "execution_count": null,
      "outputs": [
        {
          "output_type": "execute_result",
          "data": {
            "text/plain": [
              "array([[1., 0., 0., 0., 0.],\n",
              "       [0., 1., 0., 0., 0.],\n",
              "       [0., 0., 1., 0., 0.],\n",
              "       [0., 0., 0., 1., 0.],\n",
              "       [0., 0., 0., 0., 1.]])"
            ]
          },
          "metadata": {
            "tags": []
          },
          "execution_count": 92
        }
      ]
    },
    {
      "cell_type": "code",
      "metadata": {
        "colab": {
          "base_uri": "https://localhost:8080/"
        },
        "id": "TpV1lCwGzZkX",
        "outputId": "98a8d01a-337d-474f-f94e-130b9439f356"
      },
      "source": [
        "A = np.array([[1,2,3],[4,5,6],[7,8,9]])\n",
        "I = np.identity(3)\n",
        "print(A.dot(I)) ## 어떤 행렬에 단위행렬을 곱해도 그 행렬은 변하지 않는다."
      ],
      "execution_count": null,
      "outputs": [
        {
          "output_type": "stream",
          "text": [
            "[[1. 2. 3.]\n",
            " [4. 5. 6.]\n",
            " [7. 8. 9.]]\n"
          ],
          "name": "stdout"
        }
      ]
    },
    {
      "cell_type": "markdown",
      "metadata": {
        "id": "w4F4In3Czsh3"
      },
      "source": [
        "### 역행렬 \n",
        "정수에서 역수와 동일한 의미로 곱하면 단위행렬이 되는 행렬이다. 단 정방행렬만 가능하다."
      ]
    },
    {
      "cell_type": "code",
      "metadata": {
        "colab": {
          "base_uri": "https://localhost:8080/"
        },
        "id": "W3mRwiZSzua-",
        "outputId": "d2ba6fef-c80a-4897-9852-710b741851e8"
      },
      "source": [
        "A = np.array([[1, 2],[3, 4]])\n",
        "invA = np.linalg.inv(A)  ##파이썬에서 역행렬 구하는 방법\n",
        "print(invA) ##단 역행렬이 존재하지 않는 행렬도 있다."
      ],
      "execution_count": null,
      "outputs": [
        {
          "output_type": "stream",
          "text": [
            "[[-2.   1. ]\n",
            " [ 1.5 -0.5]]\n"
          ],
          "name": "stdout"
        }
      ]
    },
    {
      "cell_type": "markdown",
      "metadata": {
        "id": "i7kOzLgM1E9D"
      },
      "source": [
        "### 전치"
      ]
    },
    {
      "cell_type": "markdown",
      "metadata": {
        "id": "p9ize6Tl1rZA"
      },
      "source": [
        "AB 행렬을 전치하면 B_T A_T 가 된다. (인덱스 순서를 바꾸는 효과)"
      ]
    },
    {
      "cell_type": "code",
      "metadata": {
        "colab": {
          "base_uri": "https://localhost:8080/"
        },
        "id": "fikkGOmB1c5j",
        "outputId": "2362d2f7-f4f3-4cb6-8c12-ca02bb6e618f"
      },
      "source": [
        "A = np.array([[1, 2, 3],[4, 5, 6]])\n",
        "print(A)\n",
        "print(A.T)"
      ],
      "execution_count": null,
      "outputs": [
        {
          "output_type": "stream",
          "text": [
            "[[1 2 3]\n",
            " [4 5 6]]\n",
            "[[1 4]\n",
            " [2 5]\n",
            " [3 6]]\n"
          ],
          "name": "stdout"
        }
      ]
    },
    {
      "cell_type": "markdown",
      "metadata": {
        "id": "M87N9hwo3kEj"
      },
      "source": [
        "### 행렬과 연립방정식"
      ]
    },
    {
      "cell_type": "markdown",
      "metadata": {
        "id": "mjbfZkm24DNL"
      },
      "source": [
        "행렬 표시로 고치고 역행렬을 양변에 곱해서 XY값을 찾을수 있다. = > 한번에 많은 연립 방정식을 풀 때 편리하다."
      ]
    },
    {
      "cell_type": "markdown",
      "metadata": {
        "id": "13UeDn_H4cU7"
      },
      "source": [
        "### 행렬과 사상"
      ]
    },
    {
      "cell_type": "markdown",
      "metadata": {
        "id": "_58XsJVh4d2j"
      },
      "source": [
        "- 벡터는 좌표하고 가정\n",
        "- 행렬은 어떤 점을 다른 점으로 이동시키는 규칙\n",
        "- 행렬은 선형 사상으로 분류된다."
      ]
    },
    {
      "cell_type": "markdown",
      "metadata": {
        "id": "6fq8hLIP5xz5"
      },
      "source": [
        "## 지수함수와 로그함수"
      ]
    },
    {
      "cell_type": "markdown",
      "metadata": {
        "id": "65Cth4Vc5z6-"
      },
      "source": [
        "지수함수는 y = a**x이다. \n",
        "특징은 \n",
        "- a>1이면 단조 증가\n",
        "- 0<a<1이면 단조 감소\n",
        "- 출력은 a>0이면 항상 양수이다."
      ]
    },
    {
      "cell_type": "code",
      "metadata": {
        "colab": {
          "base_uri": "https://localhost:8080/",
          "height": 324
        },
        "id": "DjFniQkT6EFV",
        "outputId": "bd45cb1d-8225-46eb-9d94-2a2d464a0f1c"
      },
      "source": [
        "x = np.linspace(-4, 4 ,100)\n",
        "y = 2**x\n",
        "y2 = 3**x\n",
        "y3 = 0.5**x\n",
        "\n",
        "plt.figure(figsize=(5,5))\n",
        "plt.plot(x, y, 'black', linewidth = 3, label = '$y = 2^x$')\n",
        "plt.plot(x, y2, 'cornflowerblue', linewidth = 3, label = '$y = 3^x$')\n",
        "plt.plot(x, y3, 'gray', linewidth = 3, label = '$y = 0.5^x$')\n",
        "plt.ylim(-2,6)\n",
        "plt.xlim(-4,4)\n",
        "plt.grid(True)\n",
        "plt.legend(loc = 'lower right')\n",
        "plt.show()"
      ],
      "execution_count": null,
      "outputs": [
        {
          "output_type": "display_data",
          "data": {
            "image/png": "[encoded data removed]",
            "text/plain": [
              "<Figure size 360x360 with 1 Axes>"
            ]
          },
          "metadata": {
            "tags": [],
            "needs_background": "light"
          }
        }
      ]
    },
    {
      "cell_type": "markdown",
      "metadata": {
        "id": "3xEBWfbi67mt"
      },
      "source": [
        "로그함수는 y = log(a)x이다. 특징은\n",
        "- 지수함수의 역함수이다.\n",
        "- y = x에서 y = a**x와 대칭이다.\n",
        "- a>0에서만 정의된다\n",
        "- x가 커지면 값은 증가하지만 기울기는 완만해진다.\n",
        "- 너무 크거나 너무 작은수를 다루기 쉬운 크기로 rescale해주는 역할의 함수다.\n",
        "- 곱셈을 덧셈으로 변환해준다. -> 가능도를 로그 가능도로 변환 or 미분하기 편리\n",
        "- 지수함수의 최대 최소값을 취하는 값은 로그함수도 동일하다."
      ]
    },
    {
      "cell_type": "code",
      "metadata": {
        "colab": {
          "base_uri": "https://localhost:8080/",
          "height": 324
        },
        "id": "XtzKIi947c4Z",
        "outputId": "e678a5fa-7098-4037-ff46-e658dcc58df6"
      },
      "source": [
        "x = np.linspace(-8, 8, 100)\n",
        "y = 2**x\n",
        "\n",
        "x2 = np.linspace(0.001, 8, 100) ## log(0)은 에러다. 그래서 제외해야 한다.\n",
        "y2 = np.log(x2)/np.log(2) ## 밑이 2인 로그를 자연로그로 공식사용해서 만들기\n",
        "plt.figure(figsize=(5,5))\n",
        "plt.plot(x, y, 'black', linewidth = 3)\n",
        "plt.plot(x2, y2, 'cornflowerblue', linewidth = 3)\n",
        "plt.plot(x, x, 'black', linestyle='--', linewidth = 1)\n",
        "plt.ylim(-8,8)\n",
        "plt.xlim(-8,8)\n",
        "plt.grid(True)\n",
        "plt.show()"
      ],
      "execution_count": null,
      "outputs": [
        {
          "output_type": "display_data",
          "data": {
            "image/png": "[encoded data removed]",
            "text/plain": [
              "<Figure size 360x360 with 1 Axes>"
            ]
          },
          "metadata": {
            "tags": [],
            "needs_background": "light"
          }
        }
      ]
    },
    {
      "cell_type": "code",
      "metadata": {
        "colab": {
          "base_uri": "https://localhost:8080/",
          "height": 265
        },
        "id": "E2eFATB2_Xmd",
        "outputId": "f33a926e-436c-4336-f7a0-5b50bdf0120f"
      },
      "source": [
        "x = np.linspace(-4, 4, 100)\n",
        "y =(x-1)**2 +2 \n",
        "logy = np.log(y)\n",
        "\n",
        "plt.figure(figsize =(4,4))\n",
        "plt.plot(x,y,'black',linewidth=3)\n",
        "plt.plot(x, logy, 'cornflowerblue', linewidth=3)\n",
        "plt.xticks(range(-4,9,1))\n",
        "plt.yticks(range(-4,5,1))\n",
        "plt.ylim(-4,8)\n",
        "plt.xlim(-4,4)\n",
        "plt.grid(True)\n",
        "plt.show()"
      ],
      "execution_count": null,
      "outputs": [
        {
          "output_type": "display_data",
          "data": {
            "image/png": "[encoded data removed]",
            "text/plain": [
              "<Figure size 288x288 with 1 Axes>"
            ]
          },
          "metadata": {
            "tags": [],
            "needs_background": "light"
          }
        }
      ]
    },
    {
      "cell_type": "markdown",
      "metadata": {
        "id": "bPZft1_6AdtS"
      },
      "source": [
        "### 지수 함수의 미분 "
      ]
    },
    {
      "cell_type": "markdown",
      "metadata": {
        "id": "tNWmb6CxAvyG"
      },
      "source": [
        "y = a ** x  \n",
        "dx/dy = a**x * log (a)"
      ]
    },
    {
      "cell_type": "markdown",
      "metadata": {
        "id": "uy7S9ziXBYbI"
      },
      "source": [
        "특이점 a == e인 경우 함수의 형태는 변하지 않는다 => 미분 계산시 편리"
      ]
    },
    {
      "cell_type": "code",
      "metadata": {
        "colab": {
          "base_uri": "https://localhost:8080/",
          "height": 269
        },
        "id": "uSFD8QRhAwpc",
        "outputId": "af25b4bd-2607-4dd9-cce0-b37530e2f7b1"
      },
      "source": [
        "x = np.linspace(-4, 4, 100)\n",
        "a = 2\n",
        "y = a**x\n",
        "dy = np.log(a) * y\n",
        "\n",
        "plt.figure(figsize= (4, 4))\n",
        "plt.plot(x, y, 'gray', linestyle='--', linewidth=3)\n",
        "plt.plot(x, dy, 'black', linewidth=3)\n",
        "plt.ylim(-1,8)\n",
        "plt.xlim(-4,4)\n",
        "plt.grid(True)\n",
        "plt.show()"
      ],
      "execution_count": null,
      "outputs": [
        {
          "output_type": "display_data",
          "data": {
            "image/png": "[encoded data removed]",
            "text/plain": [
              "<Figure size 288x288 with 1 Axes>"
            ]
          },
          "metadata": {
            "tags": [],
            "needs_background": "light"
          }
        }
      ]
    },
    {
      "cell_type": "markdown",
      "metadata": {
        "id": "gLX0boi0BqXt"
      },
      "source": [
        "### 로그 함수의 미분"
      ]
    },
    {
      "cell_type": "markdown",
      "metadata": {
        "id": "YCgXecmwBs4v"
      },
      "source": [
        "y = log(x)  \n",
        "dy / dx = 1/x"
      ]
    },
    {
      "cell_type": "code",
      "metadata": {
        "colab": {
          "base_uri": "https://localhost:8080/",
          "height": 269
        },
        "id": "NHbjn5dfCC64",
        "outputId": "baaf7266-d9aa-4029-ebaa-ade7121b4c7a"
      },
      "source": [
        "x = np.linspace(0.0001, 4, 100) # 0이하로 정의 불가능\n",
        "y = np.log(x)\n",
        "dy = 1 / x\n",
        "\n",
        "plt.figure(figsize=(4, 4))\n",
        "plt.plot(x, y, 'gray', linestyle='--', linewidth=3)\n",
        "plt.plot(x, dy, 'black', linewidth=3)\n",
        "plt.ylim(-8,8)\n",
        "plt.xlim(-1,4)\n",
        "plt.grid(True)\n",
        "plt.show()"
      ],
      "execution_count": null,
      "outputs": [
        {
          "output_type": "display_data",
          "data": {
            "image/png": "[encoded data removed]",
            "text/plain": [
              "<Figure size 288x288 with 1 Axes>"
            ]
          },
          "metadata": {
            "tags": [],
            "needs_background": "light"
          }
        }
      ]
    },
    {
      "cell_type": "markdown",
      "metadata": {
        "id": "rj8YhHWVDPxn"
      },
      "source": [
        "## 시그모이드 함수"
      ]
    },
    {
      "cell_type": "markdown",
      "metadata": {
        "id": "hx9mGCaWDSqz"
      },
      "source": [
        "y = 1 / ( 1 + e**(-x) )  \n",
        "y = 1 / ( 1 + exp(-x) )\n",
        "\n",
        "dy/dx = y(1-y)"
      ]
    },
    {
      "cell_type": "markdown",
      "metadata": {
        "id": "TTZltsAdFoSW"
      },
      "source": [
        "특징\n",
        "- 매끄러운 계단 모양\n",
        "- 실수를 0~1까지로 변환시킨다.\n",
        "- 확률을 나타낼 때 자주 사용"
      ]
    },
    {
      "cell_type": "code",
      "metadata": {
        "colab": {
          "base_uri": "https://localhost:8080/",
          "height": 269
        },
        "id": "wUxxIF_pDhX_",
        "outputId": "632ff36c-3d6d-4c7e-dad7-e27f867ac1f7"
      },
      "source": [
        "x = np.linspace(-10, 10, 100)\n",
        "y = 1 / (1 + np.exp(-x))\n",
        "\n",
        "plt.figure(figsize=(4, 4))\n",
        "plt.plot(x, y, 'black', linewidth=3)\n",
        "\n",
        "plt.ylim(-1, 2)\n",
        "plt.xlim(-10, 10)\n",
        "plt.grid(True)\n",
        "plt.show()"
      ],
      "execution_count": null,
      "outputs": [
        {
          "output_type": "display_data",
          "data": {
            "image/png": "[encoded data removed]",
            "text/plain": [
              "<Figure size 288x288 with 1 Axes>"
            ]
          },
          "metadata": {
            "tags": [],
            "needs_background": "light"
          }
        }
      ]
    },
    {
      "cell_type": "markdown",
      "metadata": {
        "id": "ekJtlbYEF3FP"
      },
      "source": [
        "##소프트맥스 함수"
      ]
    },
    {
      "cell_type": "markdown",
      "metadata": {
        "id": "0BpQL0FKNA2R"
      },
      "source": [
        "조건\n",
        "- 기존 수(x)의 대소 관계 유지\n",
        "- 기존 수를 확률로 변환\n",
        "- 전부 더했을 때 1이 되어야 한다."
      ]
    },
    {
      "cell_type": "markdown",
      "metadata": {
        "id": "Ak1F8TpiK4lQ"
      },
      "source": [
        "K 변수의 소프트 맥스 함수  \n",
        "- $y_i = \\frac{exp(x_i)} { \\sum_{i=0}^{K-1} exp(x_i)}$\n",
        "미분\n",
        "- $\\frac{∂y_j} {∂x_i} = y_j(I_{ij} - y_i)$  \n",
        "단 $I$는 i = j일 때 1, i != j 일 때 0이다. "
      ]
    },
    {
      "cell_type": "code",
      "metadata": {
        "colab": {
          "base_uri": "https://localhost:8080/"
        },
        "id": "KwFDF0GNR8zR",
        "outputId": "39f7666b-517c-48a2-8ce3-f0f73342db56"
      },
      "source": [
        "def softmax(x0, x1, x2):\n",
        "  u = np.exp(x0) + np.exp(x1) + np.exp(x2)\n",
        "  return np.exp(x0) / u, np.exp(x1) / u, np.exp(x2) / u\n",
        "y = softmax(2, 1, -1)\n",
        "print(np.round(y, 2))\n",
        "print(np.sum(y))"
      ],
      "execution_count": null,
      "outputs": [
        {
          "output_type": "stream",
          "text": [
            "[0.71 0.26 0.04]\n",
            "1.0\n"
          ],
          "name": "stdout"
        }
      ]
    },
    {
      "cell_type": "code",
      "metadata": {
        "colab": {
          "base_uri": "https://localhost:8080/",
          "height": 194
        },
        "id": "zdYES-BbTDvB",
        "outputId": "ede84c1e-1640-42ed-80a8-000dca3741f3"
      },
      "source": [
        "from mpl_toolkits.mplot3d import Axes3D\n",
        "\n",
        "xn = 20 ##갯수\n",
        "x0 = np.linspace(-4, 4, xn)\n",
        "x1 = np.linspace(-4, 4, xn)\n",
        "\n",
        "y = np.zeros((xn, xn, 3))\n",
        "for i0 in range(xn):\n",
        "  for i1 in range(xn):\n",
        "    y[i1, i0, :] =softmax(x0[i0], x1[i1], 1) ## x2고정해서 y에 넣기\n",
        "\n",
        "xx0, xx1 = np.meshgrid(x0, x1)\n",
        "plt.figure(figsize=(8, 3))\n",
        "for i in range(3):\n",
        "  ax = plt.subplot(1, 3, i+1, projection='3d')\n",
        "  ax.plot_surface(xx0, xx1, y[:,:,i], rstride=1, cstride=1, alpha=0.3, color='blue', edgecolor='black')\n",
        "  ax.set_xlabel('$x_0$', fontsize=14)\n",
        "  ax.set_ylabel('$x_1$', fontsize=14)\n",
        "  ax.view_init(40, -125)\n",
        "plt.show()\n"
      ],
      "execution_count": null,
      "outputs": [
        {
          "output_type": "display_data",
          "data": {
            "image/png": "[encoded data removed]",
            "text/plain": [
              "<Figure size 576x216 with 3 Axes>"
            ]
          },
          "metadata": {
            "tags": [],
            "needs_background": "light"
          }
        }
      ]
    },
    {
      "cell_type": "markdown",
      "metadata": {
        "id": "vuKcUxOmyVn8"
      },
      "source": [
        "## 소프트맥스 함수와 시그모이드 함수"
      ]
    },
    {
      "cell_type": "markdown",
      "metadata": {
        "id": "KqO7WRUE8_dK"
      },
      "source": [
        "0dds 개념\n",
        "- http://www.incodom.kr/Odds_ratio\n",
        "\n",
        "\n",
        "로짓, 시그모이드, 소프트맥스 유도\n",
        "- https://cjw0107.tistory.com/7\n"
      ]
    },
    {
      "cell_type": "markdown",
      "metadata": {
        "id": "m20N1ESA9Y7G"
      },
      "source": [
        "- 로짓(logit) : odds를 자연로그 취한 값\n",
        " - 실패확률에 대한 성공 확률의 비(연관성)를 자연로그 취한 값\n",
        "- 시그모이드(sigmoid) : 로짓의 역함수 관계\n",
        " - x값을 0~1 값으로 변환시켜준다.\n",
        " - 로짓의 성공확률(원하는 클래스 분류 확률)을 뽑아준다.\n",
        "- 소프트맥스(softmax) : k개의 클래스 구분 결과를 확률처럼 해석\n",
        " - 시그모이드를 k개의 클래스로 일반화\n"
      ]
    },
    {
      "cell_type": "markdown",
      "metadata": {
        "id": "MEKcF2iWBsTP"
      },
      "source": [
        "## 가우스 함수"
      ]
    },
    {
      "cell_type": "markdown",
      "metadata": {
        "id": "hm8hh3l3BuGj"
      },
      "source": [
        "- 가우스 분포를 나타내는 함수로 주로 기저함수로 사용된다.\n",
        "- 기본 형태\n",
        " - $y = exp(-x^2)$\n",
        "- 일반 형태\n",
        " - $y = αexp(- \\frac{(x-μ)^2} {σ^2})$\n",
        " - α: 높이, μ : 평균, σ: 표준편차\n",
        "- 확률 분포를 나타내는 형태(x에 대한 적분이 1이 되어야 한다.)\n",
        " -  $α = \\frac{1} {(2πσ^2)^{1/2}}$"
      ]
    },
    {
      "cell_type": "code",
      "metadata": {
        "colab": {
          "base_uri": "https://localhost:8080/",
          "height": 286
        },
        "id": "fQhjgPqTC4T4",
        "outputId": "a05b9f7a-9e23-44fd-c0ae-33a8005de53d"
      },
      "source": [
        "def gauss(mu, sigma, a):\n",
        "  return a * np.exp(-(x - mu)**2 / sigma**2)\n",
        "\n",
        "x = np.linspace(-4, 4, 100)\n",
        "plt.figure(figsize=(4, 4))\n",
        "plt.plot(x, gauss(0, 1, 1), 'black', linewidth=3)\n",
        "plt.plot(x, gauss(2, 3, 0.5), 'gray', linewidth=3)\n",
        "plt.ylim(-.5, 1.5)\n",
        "plt.xlim(-4, 4)\n",
        "plt.grid(True)\n",
        "plt.show"
      ],
      "execution_count": null,
      "outputs": [
        {
          "output_type": "execute_result",
          "data": {
            "text/plain": [
              "<function matplotlib.pyplot.show>"
            ]
          },
          "metadata": {
            "tags": []
          },
          "execution_count": 104
        },
        {
          "output_type": "display_data",
          "data": {
            "image/png": "[encoded data removed]",
            "text/plain": [
              "<Figure size 288x288 with 1 Axes>"
            ]
          },
          "metadata": {
            "tags": [],
            "needs_background": "light"
          }
        }
      ]
    },
    {
      "cell_type": "markdown",
      "metadata": {
        "id": "GlWAjsJ4Q-M0"
      },
      "source": [
        "## 2차원 가우스 함수"
      ]
    },
    {
      "cell_type": "markdown",
      "metadata": {
        "id": "WQOlxqCyRDB8"
      },
      "source": [
        "- 기본 형태\n",
        " - $y = exp\\{-(x_0^2 + x_1^2)\\}$\n",
        "- 일반 형태\n",
        " - $y = αexp\\{(- \\frac{1} {2} (x-μ)^T Σ^{-1} (x - μ)\\}$\n",
        " - μ : 평균 백터, Σ: 공분산 행렬\n",
        "- 확률 분포를 나타내는 형태(x에 대한 적분이 1이 되어야 한다.)\n",
        " - α : $\\frac{1} {2π} \\frac{1} {|Σ|{^{1/2}}}$"
      ]
    },
    {
      "cell_type": "markdown",
      "metadata": {
        "id": "M6Lu0cHBTRB1"
      },
      "source": [
        "공분산 행렬\n",
        "- 형태 (분산, 공분산 조합)\n",
        "  - i = j : 분산,  i != j : 공분산\n",
        "- 공분산(covariance) 정의 : 두개의 확률변수의 분포가 결합된 결합 확률분포의 분산\n",
        " - 방향성은 나타내지만 결합 정도에 대한 정보는 유용 x\n",
        " - 공분산 > 0 두 변수는 같은 방향으로 움직임\n",
        " - 공분산 < 0 두 변수는 다른 방향으로 움직임 \n",
        " - 공분산 = 0 두 변수는 독립적일수 있다 (항상은 아님)"
      ]
    },
    {
      "cell_type": "code",
      "metadata": {
        "id": "VE8C_EJ1I5bG"
      },
      "source": [
        "import numpy as np\n",
        "import matplotlib.pyplot as plt\n",
        "from mpl_toolkits.mplot3d import axes3d\n",
        "\n",
        "def gauss(x, mu, sigma):\n",
        "  N, D = x.shape\n",
        "  c1 = 1 / (2 * np.pi)**(D / 2) ## 여기에서 D / 2 로 제곱하는 이유?? \n",
        "  c2 = 1 / (np.linalg.det(sigma)**(1 / 2)) ## np.linalg.det()는 행렬의 ad-bc를 계산해준다.(역행렬 존재여부)&&(행렬의 크기)\n",
        "  inv_sigma = np.linalg.inv(sigma) ##역행렬 계산\n",
        "  c3 = x - mu \n",
        "  c4 = np.dot(c3, inv_sigma)\n",
        "  c5 = np.zeros(N)\n",
        "  for d in range(D):\n",
        "    c5 = c5 + c4[:, d] * c3[:, d]\n",
        "  p = c1 * c2 * np.exp(-c5 / 2)\n",
        "  return p  "
      ],
      "execution_count": null,
      "outputs": []
    },
    {
      "cell_type": "code",
      "metadata": {
        "id": "ovCo88BQR99R"
      },
      "source": [
        "def gauss_(x, mu, sigma):\n",
        "  N, D = x.shape\n",
        "  c1 = 1 / (2 * np.pi)**(D / 2) ## 여기에서 D / 2 로 제곱하는 이유?? \n",
        "  c2 = 1 / (np.linalg.det(sigma)**(1 / 2)) ## np.linalg.det()는 행렬의 ad-bc를 계산해준다.(역행렬 존재여부)&&(행렬의 크기)\n",
        "  inv_sigma = np.linalg.inv(sigma) ##역행렬 계산\n",
        "  c3 = x - mu \n",
        "  c4 = np.dot(c3, inv_sigma)\n",
        "  c5 = np.dot(c4, c3.T)\n",
        "  p = c1 * c2 * np.exp(-c5 / 2)\n",
        "  return p "
      ],
      "execution_count": null,
      "outputs": []
    },
    {
      "cell_type": "code",
      "metadata": {
        "colab": {
          "base_uri": "https://localhost:8080/"
        },
        "id": "Y_LVltwaJ3Dq",
        "outputId": "ed81e1f8-e22f-4a7e-942a-b9f6d2d12992"
      },
      "source": [
        "x = np.array([[1, 2], [2, 1], [3, 4]])\n",
        "mu = np.array([1, 2])\n",
        "sigma = np.array([[1, 0], [0, 1]])\n",
        "print(gauss(x, mu, sigma))\n",
        "print(gauss_(x, mu, sigma))"
      ],
      "execution_count": null,
      "outputs": [
        {
          "output_type": "stream",
          "text": [
            "[0.15915494 0.05854983 0.00291502]\n",
            "[[0.15915494 0.15915494 0.15915494]\n",
            " [0.15915494 0.05854983 0.15915494]\n",
            " [0.15915494 0.15915494 0.00291502]]\n"
          ],
          "name": "stdout"
        }
      ]
    },
    {
      "cell_type": "code",
      "metadata": {
        "colab": {
          "base_uri": "https://localhost:8080/",
          "height": 345
        },
        "id": "F4QbhQgETef0",
        "outputId": "0481dda6-4ca8-4b43-f08f-c020ffe40666"
      },
      "source": [
        "a=gauss(x, mu, sigma)\n",
        "a\n",
        "a = a.reshape(3, 3)"
      ],
      "execution_count": null,
      "outputs": [
        {
          "output_type": "error",
          "ename": "ValueError",
          "evalue": "ignored",
          "traceback": [
            "\u001b[0;31m---------------------------------------------------------------------------\u001b[0m",
            "\u001b[0;31mValueError\u001b[0m                                Traceback (most recent call last)",
            "\u001b[0;32m<ipython-input-107-6eefda00fa10>\u001b[0m in \u001b[0;36m<module>\u001b[0;34m()\u001b[0m\n\u001b[0;32m----> 1\u001b[0;31m \u001b[0ma\u001b[0m\u001b[0;34m=\u001b[0m\u001b[0mgauss\u001b[0m\u001b[0;34m(\u001b[0m\u001b[0mx\u001b[0m\u001b[0;34m,\u001b[0m \u001b[0mmu\u001b[0m\u001b[0;34m,\u001b[0m \u001b[0msigma\u001b[0m\u001b[0;34m)\u001b[0m\u001b[0;34m\u001b[0m\u001b[0;34m\u001b[0m\u001b[0m\n\u001b[0m\u001b[1;32m      2\u001b[0m \u001b[0ma\u001b[0m\u001b[0;34m\u001b[0m\u001b[0;34m\u001b[0m\u001b[0m\n\u001b[1;32m      3\u001b[0m \u001b[0ma\u001b[0m \u001b[0;34m=\u001b[0m \u001b[0ma\u001b[0m\u001b[0;34m.\u001b[0m\u001b[0mreshape\u001b[0m\u001b[0;34m(\u001b[0m\u001b[0;36m3\u001b[0m\u001b[0;34m,\u001b[0m \u001b[0;36m3\u001b[0m\u001b[0;34m)\u001b[0m\u001b[0;34m\u001b[0m\u001b[0;34m\u001b[0m\u001b[0m\n",
            "\u001b[0;32m<ipython-input-105-6f2ac6358fec>\u001b[0m in \u001b[0;36mgauss\u001b[0;34m(x, mu, sigma)\u001b[0m\n\u001b[1;32m      4\u001b[0m \u001b[0;34m\u001b[0m\u001b[0m\n\u001b[1;32m      5\u001b[0m \u001b[0;32mdef\u001b[0m \u001b[0mgauss\u001b[0m\u001b[0;34m(\u001b[0m\u001b[0mx\u001b[0m\u001b[0;34m,\u001b[0m \u001b[0mmu\u001b[0m\u001b[0;34m,\u001b[0m \u001b[0msigma\u001b[0m\u001b[0;34m)\u001b[0m\u001b[0;34m:\u001b[0m\u001b[0;34m\u001b[0m\u001b[0;34m\u001b[0m\u001b[0m\n\u001b[0;32m----> 6\u001b[0;31m   \u001b[0mN\u001b[0m\u001b[0;34m,\u001b[0m \u001b[0mD\u001b[0m \u001b[0;34m=\u001b[0m \u001b[0mx\u001b[0m\u001b[0;34m.\u001b[0m\u001b[0mshape\u001b[0m\u001b[0;34m\u001b[0m\u001b[0;34m\u001b[0m\u001b[0m\n\u001b[0m\u001b[1;32m      7\u001b[0m   \u001b[0mc1\u001b[0m \u001b[0;34m=\u001b[0m \u001b[0;36m1\u001b[0m \u001b[0;34m/\u001b[0m \u001b[0;34m(\u001b[0m\u001b[0;36m2\u001b[0m \u001b[0;34m*\u001b[0m \u001b[0mnp\u001b[0m\u001b[0;34m.\u001b[0m\u001b[0mpi\u001b[0m\u001b[0;34m)\u001b[0m\u001b[0;34m**\u001b[0m\u001b[0;34m(\u001b[0m\u001b[0mD\u001b[0m \u001b[0;34m/\u001b[0m \u001b[0;36m2\u001b[0m\u001b[0;34m)\u001b[0m \u001b[0;31m## 여기에서 D / 2 로 제곱하는 이유??\u001b[0m\u001b[0;34m\u001b[0m\u001b[0;34m\u001b[0m\u001b[0m\n\u001b[1;32m      8\u001b[0m   \u001b[0mc2\u001b[0m \u001b[0;34m=\u001b[0m \u001b[0;36m1\u001b[0m \u001b[0;34m/\u001b[0m \u001b[0;34m(\u001b[0m\u001b[0mnp\u001b[0m\u001b[0;34m.\u001b[0m\u001b[0mlinalg\u001b[0m\u001b[0;34m.\u001b[0m\u001b[0mdet\u001b[0m\u001b[0;34m(\u001b[0m\u001b[0msigma\u001b[0m\u001b[0;34m)\u001b[0m\u001b[0;34m**\u001b[0m\u001b[0;34m(\u001b[0m\u001b[0;36m1\u001b[0m \u001b[0;34m/\u001b[0m \u001b[0;36m2\u001b[0m\u001b[0;34m)\u001b[0m\u001b[0;34m)\u001b[0m \u001b[0;31m## np.linalg.det()는 행렬의 ad-bc를 계산해준다.(역행렬 존재여부)&&(행렬의 크기)\u001b[0m\u001b[0;34m\u001b[0m\u001b[0;34m\u001b[0m\u001b[0m\n",
            "\u001b[0;31mValueError\u001b[0m: not enough values to unpack (expected 2, got 1)"
          ]
        }
      ]
    },
    {
      "cell_type": "code",
      "metadata": {
        "id": "9tEoJsZdTwuq"
      },
      "source": [
        "gauss_(x, mu, sigma)"
      ],
      "execution_count": null,
      "outputs": []
    },
    {
      "cell_type": "code",
      "metadata": {
        "id": "txuNMurmTtU0"
      },
      "source": [
        "a"
      ],
      "execution_count": null,
      "outputs": []
    },
    {
      "cell_type": "markdown",
      "metadata": {
        "id": "Wi9L5KzZethX"
      },
      "source": [
        "이거 결과값이 위 처럼 3x3행렬로 나와야하는데 왜 1x3행렬로 나오게 뽑는지?  "
      ]
    },
    {
      "cell_type": "code",
      "metadata": {
        "id": "zlIaRIUAKN0r"
      },
      "source": [
        "X_range0 = [-3, 3]\n",
        "X_range1 = [-3, 3]\n",
        "\n",
        "def show_contour_gauss(mu, sig):\n",
        "  xn = 40\n",
        "  x0 = np.linspace(X_range0[0], X_range0[1], xn)\n",
        "  x1 = np.linspace(X_range1[0], X_range1[1], xn)\n",
        "  xx0, xx1 = np.meshgrid(x0, x1)\n",
        "  x = np.c_[np.reshape(xx0, xn * xn, 'F'), np.reshape(xx1, xn * xn, 'F')] ## x.T구현\n",
        "  f = gauss(x, mu, sig)\n",
        "  f = f.reshape(xn, xn)\n",
        "  f = f.T ## xx0와 xx1의 순서에 맞게 설정\n",
        "  cont = plt.contour(xx0, xx1, f, 15, colors='k')\n",
        "  plt.grid(True)\n",
        "\n",
        "def show3d_gauss(ax, mu, sig):\n",
        "  xn = 40\n",
        "  x0 = np.linspace(X_range0[0], X_range0[1], xn)\n",
        "  x1 = np.linspace(X_range1[0], X_range1[1], xn)\n",
        "  xx0, xx1 = np.meshgrid(x0, x1)\n",
        "  x = np.c_[np.reshape(xx0, xn * xn, 1), np.reshape(xx1, xn * xn, 'F')]\n",
        "  f = gauss(x, mu, sig)\n",
        "  f = f.reshape(xn, xn)\n",
        "  f = f.T\n",
        "  ax.plot_surface(xx0, xx1, f, rstride=2, cstride=2, alpha=0.3, color='blue', edgecolor='black')\n",
        "\n",
        "mu = np.array([1, 0.5])\n",
        "sigma = np.array([[2, 1],[1, 1]])\n",
        "Fig = plt.figure(1, figsize=(7, 3))\n",
        "Fig.add_subplot(1, 2, 1)\n",
        "show_contour_gauss(mu, sigma)\n",
        "plt.xlim(X_range0)\n",
        "plt.ylim(X_range1)\n",
        "plt.xlabel('$x_0$', fontsize=14)\n",
        "plt.xlabel('$x_1$', fontsize=14)\n",
        "Ax = Fig.add_subplot(1, 2, 2, projection = '3d')\n",
        "show3d_gauss(Ax, mu, sigma)\n",
        "Ax.set_zticks([0.05, 0.10])\n",
        "Ax.set_xlabel('$x_0$', fontsize=14)\n",
        "Ax.set_ylabel('$x_1$', fontsize=14)\n",
        "Ax.view_init(40, -100)\n",
        "plt.show()"
      ],
      "execution_count": null,
      "outputs": []
    }
  ]
}